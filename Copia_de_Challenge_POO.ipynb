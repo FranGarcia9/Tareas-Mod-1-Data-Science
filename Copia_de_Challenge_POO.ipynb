{
  "nbformat": 4,
  "nbformat_minor": 0,
  "metadata": {
    "colab": {
      "provenance": [],
      "include_colab_link": true
    },
    "kernelspec": {
      "name": "python3",
      "display_name": "Python 3"
    },
    "language_info": {
      "name": "python"
    }
  },
  "cells": [
    {
      "cell_type": "markdown",
      "metadata": {
        "id": "view-in-github",
        "colab_type": "text"
      },
      "source": [
        "<a href=\"https://colab.research.google.com/github/FranGarcia9/Tareas-Mod-1-Data-Science/blob/main/Copia_de_Challenge_POO.ipynb\" target=\"_parent\"><img src=\"https://colab.research.google.com/assets/colab-badge.svg\" alt=\"Open In Colab\"/></a>"
      ]
    },
    {
      "cell_type": "markdown",
      "source": [
        "##Ejercicio 1\n",
        "Realizar un programa que conste de una clase llamada Alumno que tenga como atributos el nombre y la nota del alumno. Definir los métodos para inicializar sus atributos, imprimirlos y mostrar un mensaje con el resultado de la nota y si ha aprobado o no.\n"
      ],
      "metadata": {
        "id": "4EFGoEpOl5J9"
      }
    },
    {
      "cell_type": "code",
      "source": [
        "class Alumno:\n",
        "  def __init__ (self, nombre= None, nota=0):\n",
        "    self.nombre = nombre\n",
        "    self.nota = nota\n",
        "\n",
        "  def evaluación (self):\n",
        "    if self.nota >= 7:\n",
        "      print(self.nombre + \" Tu calificación es \" + str(self.nota) + \" has aprobado :) \")\n",
        "    else:\n",
        "      print (self.nombre + \" Tu calificación es \" + str(self.nota) + \" no has aprobado :( \")\n",
        "\n",
        "alumno1 = Alumno(\"José\", 8)\n",
        "alumno2 = Alumno(\"Alan\", 6)\n",
        "\n",
        "print (alumno1.evaluación())\n",
        "print (alumno2.evaluación())\n",
        "\n",
        "\n",
        "\n"
      ],
      "metadata": {
        "id": "P9ullKnYnFfF",
        "colab": {
          "base_uri": "https://localhost:8080/"
        },
        "outputId": "91c93bf0-8d34-4a96-a341-04e3315e63cf"
      },
      "execution_count": null,
      "outputs": [
        {
          "output_type": "stream",
          "name": "stdout",
          "text": [
            "José Tu calificación es 8 has aprobado :) \n",
            "None\n",
            "Alan Tu calificación es 6 no has aprobado :( \n",
            "None\n"
          ]
        }
      ]
    },
    {
      "cell_type": "markdown",
      "source": [
        "##Ejercicio 2\n",
        "Realizar un programa que tenga una clase Persona con las siguientes características. La clase tendrá como atributos el nombre y la edad de una persona. Implementar los métodos necesarios para inicializar los atributos, mostrar los datos e indicar si la persona es mayor de edad o no.\n"
      ],
      "metadata": {
        "id": "b_bGLJVvmDb5"
      }
    },
    {
      "cell_type": "code",
      "source": [
        "class Persona:\n",
        "  def __init__ (self, nombre = None, edad = 0):\n",
        "    self.nombre = nombre\n",
        "    self.edad = edad\n",
        "\n",
        "  def mayoría_de_edad (self):\n",
        "    if self.edad >= 18:\n",
        "      print (self.nombre + \" tienes \" + str(self.edad) + \" cumples la mayoría de edad\")\n",
        "    else:\n",
        "      print (self.nombre + \" tienes \" + str(self.edad) + \" no tienes la mayoría de edad\")\n",
        "      \n",
        "\n",
        "\n",
        "persona1 = Persona(\"Luis\", 21)\n",
        "persona2 = Persona(\"Juan\", 17)\n",
        "\n",
        "print (persona1.mayoría_de_edad())\n",
        "print (persona2.mayoría_de_edad())"
      ],
      "metadata": {
        "id": "t_Kbaj2EnF9N",
        "colab": {
          "base_uri": "https://localhost:8080/"
        },
        "outputId": "61f97f63-3a90-42dc-a130-53801a923304"
      },
      "execution_count": null,
      "outputs": [
        {
          "output_type": "stream",
          "name": "stdout",
          "text": [
            "Luis tienes 21 cumples la mayoría de edad\n",
            "None\n",
            "Juan tienes 17no tienes la mayoría de edad\n",
            "None\n"
          ]
        }
      ]
    },
    {
      "cell_type": "markdown",
      "source": [
        "##Ejercicio 3\n",
        "Desarrollar un programa que cargue los datos de un triángulo. Implementar una clase con los métodos para inicializar los atributos, imprimir el valor del lado con un tamaño mayor y  el tipo de triángulo que es (equilátero, isósceles o escaleno).\n"
      ],
      "metadata": {
        "id": "Esf21Be0mTBn"
      }
    },
    {
      "cell_type": "code",
      "source": [
        "class triángulo:\n",
        "  def __init__ (self, a = 0, b = 0, c = 0):\n",
        "    self.ladoA = a\n",
        "    self.ladoB = b\n",
        "    self.ladoC = c\n",
        "\n",
        "  def tipo (self):\n",
        "    if self.ladoA == self.ladoB and self.ladoA == self.ladoC:\n",
        "      return \"Equilatero\"\n",
        "    elif self.ladoA != self.ladoB and self.ladoA == self.ladoC:\n",
        "      return \"Escaleno\"\n",
        "    else:\n",
        "      return \"Isósceles\"\n",
        "\n",
        "triángulo1 = triángulo (8,8,8)\n",
        "triángulo2 = triángulo (8,5,8)\n",
        "triángulo3 = triángulo (8,7,6)\n",
        "\n",
        "print (triángulo1.tipo())\n",
        "print (triángulo2.tipo())    \n",
        "print (triángulo3.tipo())"
      ],
      "metadata": {
        "id": "sPqi1jqCnGfD",
        "colab": {
          "base_uri": "https://localhost:8080/"
        },
        "outputId": "61f2d24a-db45-4353-a506-f02005023df3"
      },
      "execution_count": null,
      "outputs": [
        {
          "output_type": "stream",
          "name": "stdout",
          "text": [
            "Equilatero\n",
            "Escaleno\n",
            "Isósceles\n"
          ]
        }
      ]
    },
    {
      "cell_type": "markdown",
      "source": [
        "##Ejercicio 4\n",
        "Realizar un programa en el cual se declaren dos valores enteros por teclado utilizando el método __init__. Calcular después la suma, resta, multiplicación y división. Utilizar un método para cada una e imprimir los resultados obtenidos. Llamar a la clase Calculadora."
      ],
      "metadata": {
        "id": "FuDVAwyLmXM_"
      }
    },
    {
      "cell_type": "code",
      "source": [
        "class Calculadora:\n",
        "  def __init__ (self, a = 0, b = 0):\n",
        "    self.valor1 = float(a)\n",
        "    self.valor2 = float(b)\n",
        "\n",
        "  def suma (self):\n",
        "    suma = self.valor1 + self.valor2\n",
        "    print(\"tu resultado de la suma es: \", suma)\n",
        "\n",
        "  def resta (self):\n",
        "    resta = self.valor1 - self.valor2\n",
        "    print(\"tu resultado de la resta es \", resta)\n",
        "\n",
        "  def multiplicación (self):\n",
        "    multiplicación = self.valor1 * self.valor2\n",
        "    print(\"tu resultado de la multipliación es \", multiplicación)\n",
        "\n",
        "  def división (self):\n",
        "    división = self.valor1 / self.valor2\n",
        "    print (\"tu resultado de la divisón es \", división)\n",
        "\n",
        "\n",
        "\n",
        "valor1 = input(\"ingresa un valor \") \n",
        "valor2 = input(\"ingresa el otro valor \")\n",
        "\n",
        "operación = Calculadora(valor1, valor2)\n",
        "operación.suma()\n",
        "operación.resta()\n",
        "operación.multiplicación()\n",
        "operación.división()"
      ],
      "metadata": {
        "id": "VnFcFidTnG-O",
        "colab": {
          "base_uri": "https://localhost:8080/"
        },
        "outputId": "af4c1d5d-f6c6-4f67-e302-535513cc2458"
      },
      "execution_count": null,
      "outputs": [
        {
          "output_type": "stream",
          "name": "stdout",
          "text": [
            "ingresa un valor 15\n",
            "ingresa el otro valor 10\n",
            "tu resultado de la suma es:  25.0\n",
            "tu resultado de la resta es  5.0\n",
            "tu resultado de la multipliación es  150.0\n",
            "tu resultado de la divisón es  1.5\n"
          ]
        }
      ]
    },
    {
      "cell_type": "markdown",
      "source": [
        "##Ejercicio 5\n",
        "Realizar una clase que administre una agenda. Se debe almacenar para cada contacto el nombre, el teléfono y el email. Además deberá mostrar un menú con las siguientes opciones\n",
        "\n",
        "\n",
        "\n",
        "*   Añadir contacto\n",
        "*   Lista de contactos\n",
        "*   Buscar contacto\n",
        "*   Editar contacto\n",
        "*   Cerrar agenda"
      ],
      "metadata": {
        "id": "NmarrIA6mdo5"
      }
    },
    {
      "cell_type": "code",
      "source": [
        "class admiagenda:\n",
        "  def __init__(self, nombre = None, teléfono = 0, email = None):\n",
        "    self.nombre = nombre\n",
        "    self.teléfono = teléfono\n",
        "    self.email = email\n",
        "\n",
        "lista_contactos = list()\n",
        "nombre ={}\n",
        "\n",
        "while(True):\n",
        "    print(\"---------------------\")\n",
        "    print(\"menu\")\n",
        "    print(\"---------------------\")\n",
        "    print (\"1 Añadir Contacto\")\n",
        "    print (\"2 Lista de Contactos\")\n",
        "    print (\"3 Buscar Contacto\")\n",
        "    print (\"4 Editar Contacto\")\n",
        "    print (\"5 Cerrar Agenda\")\n",
        "    op = input(\"ingresa un valor \") \n",
        "\n",
        "    if(op == \"1\"):\n",
        "       print(\"opción 1\")\n",
        "    elif(op == \"2\"):\n",
        "        print(\"opción 2\")\n",
        "    elif(op == \"3\"):\n",
        "        print(\"opción 3\")\n",
        "    elif(op == \"4\"):       \n",
        "        print(\"opción 4\")\n",
        "    elif(op == \"5\"):\n",
        "        break\n",
        "  \n"
      ],
      "metadata": {
        "colab": {
          "base_uri": "https://localhost:8080/"
        },
        "id": "j6A5urxxGOG8",
        "outputId": "c6e81a99-d284-4087-b268-36249218ebb3"
      },
      "execution_count": 69,
      "outputs": [
        {
          "name": "stdout",
          "output_type": "stream",
          "text": [
            "---------------------\n",
            "menu\n",
            "---------------------\n",
            "1 Añadir Contacto\n",
            "2 Lista de Contactos\n",
            "3 Buscar Contacto\n",
            "4 Editar Contacto\n",
            "5 Cerrar Agenda\n",
            "ingresa un valor 5\n"
          ]
        }
      ]
    },
    {
      "cell_type": "markdown",
      "source": [
        "##Ejercicio 6\n",
        "En un banco tienen clientes que pueden hacer depósitos y extracciones de dinero. El banco requiere también al final del día calcular la cantidad de dinero que se ha depositado.\n",
        "\n",
        "Se deberán crear dos clases, la clase cliente y la clase banco. La clase cliente tendrá los atributos nombre y cantidad y los métodos __init__, depositar, extraer, mostrar_total.\n",
        "\n",
        "La clase banco tendrá como atributos 3 objetos de la clase cliente y los métodos __init__, operar y deposito_total."
      ],
      "metadata": {
        "id": "pIFlDlAnmyyh"
      }
    },
    {
      "cell_type": "code",
      "source": [],
      "metadata": {
        "id": "7gjXBfvCnIQJ"
      },
      "execution_count": null,
      "outputs": []
    },
    {
      "cell_type": "markdown",
      "source": [
        "##Ejercicio 7\n",
        "Desarrollar un programa que conste de una clase padre Cuenta y dos subclases PlazoFijo y CajaAhorro. Definir los atributos titular y cantidad y un método para imprimir los datos en la clase Cuenta. La clase CajaAhorro tendrá un método para heredar los datos y uno para mostrar la información.\n",
        "\n",
        "La clase PlazoFijo tendrá dos atributos propios, plazo e interés. Tendrá un método para obtener el importe del interés (cantidad*interés/100) y otro método para mostrar la información, datos del titular plazo, interés y total de interés.\n",
        "\n",
        "Crear al menos un objeto de cada subclase.\n",
        "\n"
      ],
      "metadata": {
        "id": "B7ZTRLdum2NG"
      }
    },
    {
      "cell_type": "code",
      "source": [],
      "metadata": {
        "id": "F2wvhFNYnI2Z"
      },
      "execution_count": null,
      "outputs": []
    }
  ]
}