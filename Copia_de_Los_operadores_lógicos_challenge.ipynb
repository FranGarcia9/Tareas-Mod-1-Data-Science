{
  "nbformat": 4,
  "nbformat_minor": 0,
  "metadata": {
    "colab": {
      "provenance": [],
      "collapsed_sections": [],
      "include_colab_link": true
    },
    "kernelspec": {
      "name": "python3",
      "display_name": "Python 3"
    },
    "language_info": {
      "name": "python"
    }
  },
  "cells": [
    {
      "cell_type": "markdown",
      "metadata": {
        "id": "view-in-github",
        "colab_type": "text"
      },
      "source": [
        "<a href=\"https://colab.research.google.com/github/FranGarcia9/Tareas-Mod-1-Data-Science/blob/main/Copia_de_Los_operadores_l%C3%B3gicos_challenge.ipynb\" target=\"_parent\"><img src=\"https://colab.research.google.com/assets/colab-badge.svg\" alt=\"Open In Colab\"/></a>"
      ]
    },
    {
      "cell_type": "markdown",
      "metadata": {
        "id": "VEn_SLPyboN0"
      },
      "source": [
        "#Los operadores lógicos \n",
        "\n"
      ]
    },
    {
      "cell_type": "markdown",
      "metadata": {
        "id": "P1vqdpRJQMv6"
      },
      "source": [
        "Recordemos los operadores de comparación\n",
        "\n",
        "![img1](https://facialix.com/images/cond.png)"
      ]
    },
    {
      "cell_type": "markdown",
      "metadata": {
        "id": "jXKTPrImShCj"
      },
      "source": [
        "y veamos algunos ejemplos de los operadores logicos en acción\n",
        "\n",
        "![img2](https://facialix.com/images/logicos.png)"
      ]
    },
    {
      "cell_type": "markdown",
      "metadata": {
        "id": "Ltf91jwLSB_d"
      },
      "source": [
        "**En este ejercicio debes mostrar el valor que se obtiene de las sentencias al ejecutarlas en codigo y explicarlas:**"
      ]
    },
    {
      "cell_type": "markdown",
      "metadata": {
        "id": "8CXLWwF2TS5D"
      },
      "source": [
        "1) **not true**"
      ]
    },
    {
      "cell_type": "code",
      "metadata": {
        "id": "dn0D2e0wB4mv",
        "colab": {
          "base_uri": "https://localhost:8080/"
        },
        "outputId": "9660654e-9ac2-4a47-f243-7390be2241c8"
      },
      "source": [
        "not True\n"
      ],
      "execution_count": null,
      "outputs": [
        {
          "output_type": "execute_result",
          "data": {
            "text/plain": [
              "False"
            ]
          },
          "metadata": {},
          "execution_count": 73
        }
      ]
    },
    {
      "cell_type": "markdown",
      "metadata": {
        "id": "LIIjBScjETLc"
      },
      "source": [
        "Escribe el explicacion aquí \n",
        "\n",
        "🖍 ... Empleado en la condición de un resultado True para obtener False o viceversa al correr la sentencia"
      ]
    },
    {
      "cell_type": "markdown",
      "metadata": {
        "id": "JGlH_p9ll3yO"
      },
      "source": [
        "2) **not (1+2 != 3)**"
      ]
    },
    {
      "cell_type": "code",
      "metadata": {
        "id": "_hobkTpAUEB4",
        "colab": {
          "base_uri": "https://localhost:8080/"
        },
        "outputId": "a9e9238c-a359-4039-aef5-b124769e77ab"
      },
      "source": [
        "#Escribe el codigo aquí\n",
        "not (1+2 != 3)\n",
        "\n"
      ],
      "execution_count": null,
      "outputs": [
        {
          "output_type": "execute_result",
          "data": {
            "text/plain": [
              "True"
            ]
          },
          "metadata": {},
          "execution_count": 2
        }
      ]
    },
    {
      "cell_type": "markdown",
      "metadata": {
        "id": "0Gw_3yeSFKRf"
      },
      "source": [
        "Escribe el explicacion aquí \n",
        "\n",
        "🖍 Al emplear operadores relaciones y aritméticos dentro de los paréntesis, se obtiene un resultado booleano \"False\", pero al estar el operador \"Not\" antes generea una salida de \"True\" del resultado final"
      ]
    },
    {
      "cell_type": "markdown",
      "metadata": {
        "id": "nTis6gKvoNkm"
      },
      "source": [
        "3) **x = (len(\"jugar\") > 5) and (len(\"jugar\") < 10)**"
      ]
    },
    {
      "cell_type": "code",
      "metadata": {
        "id": "I3I7VbTdoin4",
        "colab": {
          "base_uri": "https://localhost:8080/"
        },
        "outputId": "ddab445f-9fb7-4243-beb6-0d62c1f34f21"
      },
      "source": [
        "#Escribe el codigo aquí\n",
        "x = (len(\"jugar\") > 5) and (len(\"jugar\") < 10)\n",
        "print (x)\n"
      ],
      "execution_count": null,
      "outputs": [
        {
          "output_type": "stream",
          "name": "stdout",
          "text": [
            "False\n"
          ]
        }
      ]
    },
    {
      "cell_type": "markdown",
      "metadata": {
        "id": "Zml_nA0vFPqR"
      },
      "source": [
        "Escribe el explicacion aquí \n",
        "\n",
        "🖍 En esta sentencia se está empleado un operador de asignación (=) almacenado en \"x\". La variable \"x\" contiene un operador lógico (and) que permite comprobar si dos elementos son \"True\", en caso que alguno sea \"False\" se obtendrá como valor booleano \"False\" al no cumplirse la sentencia. \n",
        "Los dos elementos utilizados para el operador \"and\" tienen la misma función y un operador similar: una función \"len\" que permite obtener el número de elementos señalados (en este caso del string \"juguetes\") y un operador relacional \">\" o \"<\" los cual devuelve un resultado boleando si el valor de la izquierda es mayor que el de la derecha o viceversa respectivamente.\n"
      ]
    },
    {
      "cell_type": "markdown",
      "metadata": {
        "id": "HOwNy5VOorNy"
      },
      "source": [
        "4) **\"alto\"[2] == \"t\" and x**"
      ]
    },
    {
      "cell_type": "code",
      "metadata": {
        "id": "mZx6iGmeoqEA",
        "colab": {
          "base_uri": "https://localhost:8080/"
        },
        "outputId": "76d288c2-6826-49f4-fad8-16a3bd6eeab3"
      },
      "source": [
        "#Escribe el codigo aquí\n",
        "\"alto\"[2] == \"t\" and x\n",
        "\n"
      ],
      "execution_count": null,
      "outputs": [
        {
          "output_type": "execute_result",
          "data": {
            "text/plain": [
              "False"
            ]
          },
          "metadata": {},
          "execution_count": 33
        }
      ]
    },
    {
      "cell_type": "markdown",
      "metadata": {
        "id": "ze-L4sA0FZv1"
      },
      "source": [
        "Escribe el explicacion aquí \n",
        "\n",
        "🖍 ... Se obtiene \"False\" al emplear el operador relacional \"==\", el cual devolvería \"True\" si la relación de los elementos fuera igual. "
      ]
    },
    {
      "cell_type": "markdown",
      "metadata": {
        "id": "cCqs1tjHNpv4"
      },
      "source": [
        "5) **842913%10 != 3 and len(\"café\") == 3**"
      ]
    },
    {
      "cell_type": "code",
      "metadata": {
        "id": "70-kC-f9oqAe",
        "colab": {
          "base_uri": "https://localhost:8080/"
        },
        "outputId": "44522fcc-8341-4790-d946-8c6778de60f7"
      },
      "source": [
        "#Escribe el codigo aquí\n",
        "\n",
        "842913%10 != 3 and len(\"café\") == 3\n"
      ],
      "execution_count": null,
      "outputs": [
        {
          "output_type": "execute_result",
          "data": {
            "text/plain": [
              "False"
            ]
          },
          "metadata": {},
          "execution_count": 14
        }
      ]
    },
    {
      "cell_type": "markdown",
      "metadata": {
        "id": "TpDnFFjcGdkj"
      },
      "source": [
        "Escribe el explicacion aquí \n",
        "\n",
        "🖍 ...El resultado obtenido es \"False\" débido a que se emplea el operador lógico \"and\" y ambos de sus elementos no son \"True\", en este caso ambos dan \"False\".\n",
        "\n",
        "En el primer elemento se utiliza un operador relacional \"!=\" el cual arroga como resultado \"True\" si ambos elementos no son iguales, en este caso \"3\" sí es igual al módulo de 842913%10.\n",
        "En el segundo elemento se usa la función \"len\" la cual mide la longitud del string \"café\" y el operador relacional \"==\" con el valor \"3\", lo cual da como resultado \"False\".\n"
      ]
    },
    {
      "cell_type": "markdown",
      "metadata": {
        "id": "ato2HirpOAy9"
      },
      "source": [
        "6) **0!=0 or \"a\" < \"y\"**"
      ]
    },
    {
      "cell_type": "code",
      "metadata": {
        "id": "r4NtOzm3op94",
        "colab": {
          "base_uri": "https://localhost:8080/"
        },
        "outputId": "f80ee319-ca61-4970-8969-28759adf7587"
      },
      "source": [
        "#Escribe el codigo aquí\n",
        "\n",
        "0!=0 or \"a\" < \"y\"\n"
      ],
      "execution_count": null,
      "outputs": [
        {
          "output_type": "execute_result",
          "data": {
            "text/plain": [
              "True"
            ]
          },
          "metadata": {},
          "execution_count": 15
        }
      ]
    },
    {
      "cell_type": "markdown",
      "metadata": {
        "id": "Roy4PanwGfxi"
      },
      "source": [
        "Escribe el explicacion aquí \n",
        "\n",
        "🖍 ...El resultado en esta sentecia es \"True\" porque se utiliza el operador lógico \"or\" el cual da ese resultado cuando uno de los dos elementos tiene el valor boleando \"True\"\n",
        "En el primer elemento se utiliza el operador de asignación \"!=\" en los valores \"0\" y \"0\" dando como resultado \"False\" ya que ambos valores son iguales.\n",
        "\n",
        "En el segundo elemento también se utiliza un operador relacional \"<\" con los elemenos \"a\" y \"y\" dando como resultado \"True\", cumpliendo la condición del operador \"or\"."
      ]
    },
    {
      "cell_type": "markdown",
      "metadata": {
        "id": "5W25SYZeORtE"
      },
      "source": [
        "7) **True or int(\"50\") >= 50**"
      ]
    },
    {
      "cell_type": "code",
      "metadata": {
        "id": "mTpYdCzFop7s",
        "colab": {
          "base_uri": "https://localhost:8080/"
        },
        "outputId": "d8a18760-46c7-48b6-8c97-3ad5eaff3fc4"
      },
      "source": [
        "#Escribe el codigo aquí\n",
        "\n",
        "True or int(\"50\") >= 50\n"
      ],
      "execution_count": null,
      "outputs": [
        {
          "output_type": "execute_result",
          "data": {
            "text/plain": [
              "True"
            ]
          },
          "metadata": {},
          "execution_count": 16
        }
      ]
    },
    {
      "cell_type": "markdown",
      "metadata": {
        "id": "hMZpEBHCGkqJ"
      },
      "source": [
        "Escribe el explicacion aquí \n",
        "\n",
        "🖍 ... En esta sentecia el primer elemento se presenta como \"True\", lo cual ya se cumple la condición de \"or\" para dar como resultado \"True\".\n",
        "\n",
        "En el segundo elemento se prenta primero \"int(\"50\")\" lo cual signífica  que se está conviertiendo de tipo string \"50\" a un valor numérico. Al momento en que se agregan comillas a valores numéricos pasan a ser considerados string, para este caso se requiere ambos valores numéricos ya que se emplea un operador relacional \">=\" con el otro elemento 50 dando como resultado \"True\".\n"
      ]
    },
    {
      "cell_type": "markdown",
      "metadata": {
        "id": "Dp4beMsqOhOh"
      },
      "source": [
        "8) **edad = 20**\n",
        "\n",
        "**not(x) or edad%2==0**"
      ]
    },
    {
      "cell_type": "code",
      "metadata": {
        "id": "bTco9wG8op5G",
        "colab": {
          "base_uri": "https://localhost:8080/"
        },
        "outputId": "70ecdea6-b3b6-42cf-f991-286974f8ffc6"
      },
      "source": [
        "#Escribe el codigo aquí\n",
        "edad = 20\n",
        "not(x) or edad%2==0\n",
        "\n"
      ],
      "execution_count": null,
      "outputs": [
        {
          "output_type": "execute_result",
          "data": {
            "text/plain": [
              "True"
            ]
          },
          "metadata": {},
          "execution_count": 52
        }
      ]
    },
    {
      "cell_type": "markdown",
      "metadata": {
        "id": "AyH5LeZ4HgaZ"
      },
      "source": [
        "Escribe el explicacion aquí \n",
        "\n",
        "🖍 ...Se cumple la condición de un valor \"True\" para el operador lógico \"or\", en este caso ambos elementos dan como resultado el valor booleano \"True\""
      ]
    },
    {
      "cell_type": "markdown",
      "metadata": {
        "id": "QXou2mt7Oy4r"
      },
      "source": [
        "9) **es_cliente = False**\n",
        "\n",
        "**not (es_cliente and not(edad < 18))**"
      ]
    },
    {
      "cell_type": "code",
      "source": [
        "es_cliente = False\n",
        "es_cliente and not(edad < 18)"
      ],
      "metadata": {
        "colab": {
          "base_uri": "https://localhost:8080/"
        },
        "id": "eCwyL-D7QyfL",
        "outputId": "131bd0da-5906-473c-fff4-96994f9ebf12"
      },
      "execution_count": null,
      "outputs": [
        {
          "output_type": "execute_result",
          "data": {
            "text/plain": [
              "False"
            ]
          },
          "metadata": {},
          "execution_count": 64
        }
      ]
    },
    {
      "cell_type": "code",
      "metadata": {
        "id": "-p3G0qH3op2X",
        "colab": {
          "base_uri": "https://localhost:8080/"
        },
        "outputId": "a8115b0b-2152-4753-8118-ed5340165c9f"
      },
      "source": [
        "#Escribe el codigo aquí\n",
        "es_cliente = False\n",
        "not (es_cliente and not(edad < 18))\n",
        "\n"
      ],
      "execution_count": null,
      "outputs": [
        {
          "output_type": "execute_result",
          "data": {
            "text/plain": [
              "True"
            ]
          },
          "metadata": {},
          "execution_count": 57
        }
      ]
    },
    {
      "cell_type": "markdown",
      "metadata": {
        "id": "hBpjtW7iHhW8"
      },
      "source": [
        "Escribe el explicacion aquí \n",
        "\n",
        "🖍 ...La variable \"es_cliente\" es guardado bajo el valor \"False\"y en el segundo elemento donde se utiliza un operador relacional \"<\" con la variable edad (registrada en el ejercicio anterior con valor 20) y el valor númerico 18 da como resultado \"False\", pero hay un \"not\" antes, lo cual cambia el valor a \"True\"\n",
        "Al estar bajo el operador lógico \"and\" se requieren ambos elementos como valor booleano \"True\" para dar como resultado \"True2 al final, en este caso no se cumple la condición y debería sar como resultado \"False\", pero al emplear \"not\" al inicio devuelve \"True\" en los valores que dan resultado \"False\"."
      ]
    },
    {
      "cell_type": "markdown",
      "metadata": {
        "id": "_jKHKuBkbxhX"
      },
      "source": [
        "###Recursos extra para estudiar y ejercios\n"
      ]
    },
    {
      "cell_type": "markdown",
      "metadata": {
        "id": "86XEDrCbdBCr"
      },
      "source": [
        "- Video corto de Coursera: [Tablas de verdad y álgebra booleana](https://www.coursera.org/lecture/programacion-python/tablas-de-verdad-y-algebra-booleana-JJs0E)\n",
        "- Articulo corto de [Tablas de la verdad](https://www.ecured.cu/Tablas_de_la_verdad)\n",
        "- Ejercicios practicos en portal de [Tablas de Verdad](https://www.edu.xunta.gal/espazoAbalar/sites/espazoAbalar/files/datos/1493724904/contido/tablas_de_verdad.html)\n",
        "- Guía de [Ejercicios de Lógica](https://www.fing.edu.uy/tecnoinf/mvd/cursos/mdl1/material/pra/buceo_noct/mdl1-pr-logica.pdf)"
      ]
    }
  ]
}