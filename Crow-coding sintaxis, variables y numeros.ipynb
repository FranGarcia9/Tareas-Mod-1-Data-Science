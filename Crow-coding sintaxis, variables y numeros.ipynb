{
 "cells": [
  {
   "cell_type": "markdown",
   "id": "2d2ff7c0",
   "metadata": {
    "papermill": {
     "duration": 0.008458,
     "end_time": "2022-08-16T04:26:04.064672",
     "exception": false,
     "start_time": "2022-08-16T04:26:04.056214",
     "status": "completed"
    },
    "tags": []
   },
   "source": [
    "**This notebook is an exercise in the [Python](https://www.kaggle.com/learn/python) course.  You can reference the tutorial at [this link](https://www.kaggle.com/colinmorris/hello-python).**\n",
    "\n",
    "---\n"
   ]
  },
  {
   "cell_type": "markdown",
   "id": "bd9c3bd6",
   "metadata": {
    "papermill": {
     "duration": 0.006435,
     "end_time": "2022-08-16T04:26:04.078279",
     "exception": false,
     "start_time": "2022-08-16T04:26:04.071844",
     "status": "completed"
    },
    "tags": []
   },
   "source": [
    "Welcome to your first set of Python coding problems.  If this is your first time using Kaggle Notebooks, welcome! \n",
    "\n",
    "Notebooks are composed of blocks (called \"cells\") of text and code. Each of these is editable, though you'll mainly be editing the code cells to answer some questions.\n",
    "\n",
    "To get started, try running the code cell below (by pressing the ► button, or clicking on the cell and pressing ctrl+enter on your keyboard)."
   ]
  },
  {
   "cell_type": "code",
   "execution_count": null,
   "id": "8cb01d2c",
   "metadata": {
    "papermill": {
     "duration": 0.006546,
     "end_time": "2022-08-16T04:26:04.092487",
     "exception": false,
     "start_time": "2022-08-16T04:26:04.085941",
     "status": "completed"
    },
    "tags": []
   },
   "outputs": [],
   "source": []
  },
  {
   "cell_type": "code",
   "execution_count": 1,
   "id": "12df5588",
   "metadata": {
    "execution": {
     "iopub.execute_input": "2022-08-16T04:26:04.108735Z",
     "iopub.status.busy": "2022-08-16T04:26:04.108101Z",
     "iopub.status.idle": "2022-08-16T04:26:04.125259Z",
     "shell.execute_reply": "2022-08-16T04:26:04.124046Z"
    },
    "papermill": {
     "duration": 0.030135,
     "end_time": "2022-08-16T04:26:04.129431",
     "exception": false,
     "start_time": "2022-08-16T04:26:04.099296",
     "status": "completed"
    },
    "tags": []
   },
   "outputs": [
    {
     "name": "stdout",
     "output_type": "stream",
     "text": [
      "You've successfully run some Python code\n",
      "Congratulations!\n",
      "Hola a todos\n"
     ]
    }
   ],
   "source": [
    "print(\"You've successfully run some Python code\")\n",
    "print(\"Congratulations!\")\n",
    "print(\"Hola a todos\")"
   ]
  },
  {
   "cell_type": "code",
   "execution_count": null,
   "id": "8ca47845",
   "metadata": {
    "papermill": {
     "duration": 0.006661,
     "end_time": "2022-08-16T04:26:04.146094",
     "exception": false,
     "start_time": "2022-08-16T04:26:04.139433",
     "status": "completed"
    },
    "tags": []
   },
   "outputs": [],
   "source": []
  },
  {
   "cell_type": "markdown",
   "id": "1fea9879",
   "metadata": {
    "papermill": {
     "duration": 0.008783,
     "end_time": "2022-08-16T04:26:04.164516",
     "exception": false,
     "start_time": "2022-08-16T04:26:04.155733",
     "status": "completed"
    },
    "tags": []
   },
   "source": [
    "Try adding another line of code in the cell above and re-running it. \n",
    "\n",
    "Now let's get a little fancier:  Add a new code cell by clicking on an existing code cell, hitting the escape key, and then hitting the `a` or `b` key.  The `a` key will add a cell above the current cell, and `b` adds a cell below.\n",
    "\n",
    "Great! Now you know how to use Notebooks.\n",
    "\n",
    "Each hands-on exercise starts by setting up our feedback and code checking mechanism. Run the code cell below to do that. Then you'll be ready to move on to question 0."
   ]
  },
  {
   "cell_type": "code",
   "execution_count": 2,
   "id": "bf5ada06",
   "metadata": {
    "_kg_hide-input": true,
    "_kg_hide-output": true,
    "execution": {
     "iopub.execute_input": "2022-08-16T04:26:04.180296Z",
     "iopub.status.busy": "2022-08-16T04:26:04.179634Z",
     "iopub.status.idle": "2022-08-16T04:26:04.225331Z",
     "shell.execute_reply": "2022-08-16T04:26:04.224155Z"
    },
    "papermill": {
     "duration": 0.056194,
     "end_time": "2022-08-16T04:26:04.227631",
     "exception": false,
     "start_time": "2022-08-16T04:26:04.171437",
     "status": "completed"
    },
    "tags": []
   },
   "outputs": [
    {
     "name": "stdout",
     "output_type": "stream",
     "text": [
      "Setup complete! You're ready to start question 0.\n"
     ]
    }
   ],
   "source": [
    "from learntools.core import binder; binder.bind(globals())\n",
    "from learntools.python.ex1 import *\n",
    "print(\"Setup complete! You're ready to start question 0.\")"
   ]
  },
  {
   "cell_type": "markdown",
   "id": "f9b3a052",
   "metadata": {
    "papermill": {
     "duration": 0.006847,
     "end_time": "2022-08-16T04:26:04.241663",
     "exception": false,
     "start_time": "2022-08-16T04:26:04.234816",
     "status": "completed"
    },
    "tags": []
   },
   "source": [
    "# 0.\n",
    "\n",
    "*This is a silly question intended as an introduction to the format we use for hands-on exercises throughout all Kaggle courses.*\n",
    "\n",
    "**What is your favorite color? **\n",
    "\n",
    "To complete this question, create a variable called `color` in the cell below with an appropriate value. The function call `q0.check()` (which we've already provided in the cell below) will check your answer."
   ]
  },
  {
   "cell_type": "code",
   "execution_count": 3,
   "id": "efdd652c",
   "metadata": {
    "execution": {
     "iopub.execute_input": "2022-08-16T04:26:04.257952Z",
     "iopub.status.busy": "2022-08-16T04:26:04.256996Z",
     "iopub.status.idle": "2022-08-16T04:26:04.271969Z",
     "shell.execute_reply": "2022-08-16T04:26:04.270640Z"
    },
    "papermill": {
     "duration": 0.026496,
     "end_time": "2022-08-16T04:26:04.274889",
     "exception": false,
     "start_time": "2022-08-16T04:26:04.248393",
     "status": "completed"
    },
    "tags": []
   },
   "outputs": [
    {
     "data": {
      "application/javascript": [
       "parent.postMessage({\"jupyterEvent\": \"custom.exercise_interaction\", \"data\": {\"outcomeType\": 1, \"valueTowardsCompletion\": 0.25, \"interactionType\": 1, \"questionType\": 2, \"questionId\": \"0_ExerciseFormatTutorial\", \"learnToolsVersion\": \"0.3.4\", \"failureMessage\": \"\", \"exceptionClass\": \"\", \"trace\": \"\"}}, \"*\")"
      ],
      "text/plain": [
       "<IPython.core.display.Javascript object>"
      ]
     },
     "metadata": {},
     "output_type": "display_data"
    },
    {
     "data": {
      "text/markdown": [
       "<span style=\"color:#33cc33\">Correct:</span> What?! You got it right without needing a hint or anything? Drats. Well hey, you should still continue to the next step to get some practice asking for a hint and checking solutions. (Even though you obviously don't need any help here.)"
      ],
      "text/plain": [
       "Correct: What?! You got it right without needing a hint or anything? Drats. Well hey, you should still continue to the next step to get some practice asking for a hint and checking solutions. (Even though you obviously don't need any help here.)"
      ]
     },
     "metadata": {},
     "output_type": "display_data"
    }
   ],
   "source": [
    "# create a variable called color with an appropriate value on the line below\n",
    "# (Remember, strings in Python must be enclosed in 'single' or \"double\" quotes)\n",
    "color = \"blue\"\n",
    "\n",
    "# Check your answer\n",
    "q0.check()"
   ]
  },
  {
   "cell_type": "markdown",
   "id": "54adcf91",
   "metadata": {
    "papermill": {
     "duration": 0.006891,
     "end_time": "2022-08-16T04:26:04.289094",
     "exception": false,
     "start_time": "2022-08-16T04:26:04.282203",
     "status": "completed"
    },
    "tags": []
   },
   "source": [
    "Didn't get the right answer? How do you not even know your own favorite color?!\n",
    "\n",
    "Delete the `#` in the line below to make one of the lines run. You can choose between getting a hint or the full answer by choosing which line to remove the `#` from. \n",
    "\n",
    "Removing the `#` is called uncommenting, because it changes that line from a \"comment\" which Python doesn't run to code, which Python does run."
   ]
  },
  {
   "cell_type": "code",
   "execution_count": 4,
   "id": "4124586e",
   "metadata": {
    "execution": {
     "iopub.execute_input": "2022-08-16T04:26:04.305936Z",
     "iopub.status.busy": "2022-08-16T04:26:04.305505Z",
     "iopub.status.idle": "2022-08-16T04:26:04.316249Z",
     "shell.execute_reply": "2022-08-16T04:26:04.315331Z"
    },
    "papermill": {
     "duration": 0.022354,
     "end_time": "2022-08-16T04:26:04.318541",
     "exception": false,
     "start_time": "2022-08-16T04:26:04.296187",
     "status": "completed"
    },
    "tags": []
   },
   "outputs": [
    {
     "data": {
      "application/javascript": [
       "parent.postMessage({\"jupyterEvent\": \"custom.exercise_interaction\", \"data\": {\"interactionType\": 2, \"questionType\": 2, \"questionId\": \"0_ExerciseFormatTutorial\", \"learnToolsVersion\": \"0.3.4\", \"valueTowardsCompletion\": 0.0, \"failureMessage\": \"\", \"exceptionClass\": \"\", \"trace\": \"\", \"outcomeType\": 4}}, \"*\")"
      ],
      "text/plain": [
       "<IPython.core.display.Javascript object>"
      ]
     },
     "metadata": {},
     "output_type": "display_data"
    },
    {
     "data": {
      "text/markdown": [
       "<span style=\"color:#3366cc\">Hint:</span> Your favorite color rhymes with *glue*."
      ],
      "text/plain": [
       "Hint: Your favorite color rhymes with *glue*."
      ]
     },
     "metadata": {},
     "output_type": "display_data"
    }
   ],
   "source": [
    "q0.hint()"
   ]
  },
  {
   "cell_type": "markdown",
   "id": "ad61e764",
   "metadata": {
    "papermill": {
     "duration": 0.00911,
     "end_time": "2022-08-16T04:26:04.336358",
     "exception": false,
     "start_time": "2022-08-16T04:26:04.327248",
     "status": "completed"
    },
    "tags": []
   },
   "source": [
    "The upcoming questions work the same way. The only thing that will change are the question numbers. For the next question, you'll call `q1.check()`, `q1.hint()`, `q1.solution()`, for question 2, you'll call `q2.check()`, and so on."
   ]
  },
  {
   "cell_type": "markdown",
   "id": "b40eafe4",
   "metadata": {
    "papermill": {
     "duration": 0.009167,
     "end_time": "2022-08-16T04:26:04.355934",
     "exception": false,
     "start_time": "2022-08-16T04:26:04.346767",
     "status": "completed"
    },
    "tags": []
   },
   "source": [
    "<hr/>\n",
    "\n",
    "# 1.\n",
    "\n",
    "Complete the code below. In case it's helpful, here is the table of available arithmetic operations:\n",
    "\n",
    "\n",
    "\n",
    "| Operator     | Name           | Description                                            |\n",
    "|--------------|----------------|--------------------------------------------------------|\n",
    "| ``a + b``    | Addition       | Sum of ``a`` and ``b``                                 |\n",
    "| ``a - b``    | Subtraction    | Difference of ``a`` and ``b``                          |\n",
    "| ``a * b``    | Multiplication | Product of ``a`` and ``b``                             |\n",
    "| ``a / b``    | True division  | Quotient of ``a`` and ``b``                            |\n",
    "| ``a // b``   | Floor division | Quotient of ``a`` and ``b``, removing fractional parts |\n",
    "| ``a % b``    | Modulus        | Integer remainder after division of ``a`` by ``b``     |\n",
    "| ``a ** b``   | Exponentiation | ``a`` raised to the power of ``b``                     |\n",
    "| ``-a``       | Negation       | The negative of ``a``                                  |\n",
    "\n",
    "<span style=\"display:none\"></span>\n"
   ]
  },
  {
   "cell_type": "code",
   "execution_count": 5,
   "id": "77da67d6",
   "metadata": {
    "execution": {
     "iopub.execute_input": "2022-08-16T04:26:04.375396Z",
     "iopub.status.busy": "2022-08-16T04:26:04.373542Z",
     "iopub.status.idle": "2022-08-16T04:26:04.384229Z",
     "shell.execute_reply": "2022-08-16T04:26:04.383420Z"
    },
    "papermill": {
     "duration": 0.021227,
     "end_time": "2022-08-16T04:26:04.386234",
     "exception": false,
     "start_time": "2022-08-16T04:26:04.365007",
     "status": "completed"
    },
    "tags": []
   },
   "outputs": [
    {
     "data": {
      "application/javascript": [
       "parent.postMessage({\"jupyterEvent\": \"custom.exercise_interaction\", \"data\": {\"outcomeType\": 1, \"valueTowardsCompletion\": 0.25, \"interactionType\": 1, \"questionType\": 1, \"questionId\": \"1_CircleArea\", \"learnToolsVersion\": \"0.3.4\", \"failureMessage\": \"\", \"exceptionClass\": \"\", \"trace\": \"\"}}, \"*\")"
      ],
      "text/plain": [
       "<IPython.core.display.Javascript object>"
      ]
     },
     "metadata": {},
     "output_type": "display_data"
    },
    {
     "data": {
      "text/markdown": [
       "<span style=\"color:#33cc33\">Correct</span>"
      ],
      "text/plain": [
       "Correct"
      ]
     },
     "metadata": {},
     "output_type": "display_data"
    }
   ],
   "source": [
    "pi = 3.14159 # approximate\n",
    "diameter = 3\n",
    "\n",
    "# Create a variable called 'radius' equal to half the diameter\n",
    "radius = 1.5\n",
    "\n",
    "# Create a variable called 'area', using the formula for the area of a circle: pi times the radius squared\n",
    "area = pi*radius**2\n",
    "\n",
    "# Check your answer\n",
    "q1.check()"
   ]
  },
  {
   "cell_type": "code",
   "execution_count": 6,
   "id": "f6d540a0",
   "metadata": {
    "execution": {
     "iopub.execute_input": "2022-08-16T04:26:04.403286Z",
     "iopub.status.busy": "2022-08-16T04:26:04.402611Z",
     "iopub.status.idle": "2022-08-16T04:26:04.406395Z",
     "shell.execute_reply": "2022-08-16T04:26:04.405609Z"
    },
    "papermill": {
     "duration": 0.014562,
     "end_time": "2022-08-16T04:26:04.408411",
     "exception": false,
     "start_time": "2022-08-16T04:26:04.393849",
     "status": "completed"
    },
    "tags": []
   },
   "outputs": [],
   "source": [
    "# Uncomment and run the lines below if you need help.\n",
    "#q1.hint()\n",
    "#q1.solution()"
   ]
  },
  {
   "cell_type": "markdown",
   "id": "75b29af2",
   "metadata": {
    "papermill": {
     "duration": 0.007272,
     "end_time": "2022-08-16T04:26:04.423243",
     "exception": false,
     "start_time": "2022-08-16T04:26:04.415971",
     "status": "completed"
    },
    "tags": []
   },
   "source": [
    "<hr/>\n",
    "\n",
    "# 2.\n",
    "\n",
    "Add code to the following cell to swap variables `a` and `b` (so that `a` refers to the object previously referred to by `b` and vice versa)."
   ]
  },
  {
   "cell_type": "code",
   "execution_count": 7,
   "id": "9242bba5",
   "metadata": {
    "execution": {
     "iopub.execute_input": "2022-08-16T04:26:04.440382Z",
     "iopub.status.busy": "2022-08-16T04:26:04.439667Z",
     "iopub.status.idle": "2022-08-16T04:26:04.448476Z",
     "shell.execute_reply": "2022-08-16T04:26:04.447516Z"
    },
    "papermill": {
     "duration": 0.019784,
     "end_time": "2022-08-16T04:26:04.450507",
     "exception": false,
     "start_time": "2022-08-16T04:26:04.430723",
     "status": "completed"
    },
    "tags": []
   },
   "outputs": [
    {
     "data": {
      "application/javascript": [
       "parent.postMessage({\"jupyterEvent\": \"custom.exercise_interaction\", \"data\": {\"outcomeType\": 1, \"valueTowardsCompletion\": 0.25, \"interactionType\": 1, \"questionType\": 2, \"questionId\": \"2_VariableSwap\", \"learnToolsVersion\": \"0.3.4\", \"failureMessage\": \"\", \"exceptionClass\": \"\", \"trace\": \"\"}}, \"*\")"
      ],
      "text/plain": [
       "<IPython.core.display.Javascript object>"
      ]
     },
     "metadata": {},
     "output_type": "display_data"
    },
    {
     "data": {
      "text/markdown": [
       "<span style=\"color:#33cc33\">Correct:</span> \n",
       "\n",
       "The most straightforward solution is to use a third variable to temporarily store one of the old values. e.g.:\n",
       "\n",
       "    tmp = a\n",
       "    a = b\n",
       "    b = tmp\n",
       "\n",
       "If you've read lots of Python code, you might have seen the following trick to swap two variables in one line:\n",
       "\n",
       "    a, b = b, a\n",
       "\n",
       "We'll demystify this bit of Python magic later when we talk about *tuples*."
      ],
      "text/plain": [
       "Correct: \n",
       "\n",
       "The most straightforward solution is to use a third variable to temporarily store one of the old values. e.g.:\n",
       "\n",
       "    tmp = a\n",
       "    a = b\n",
       "    b = tmp\n",
       "\n",
       "If you've read lots of Python code, you might have seen the following trick to swap two variables in one line:\n",
       "\n",
       "    a, b = b, a\n",
       "\n",
       "We'll demystify this bit of Python magic later when we talk about *tuples*."
      ]
     },
     "metadata": {},
     "output_type": "display_data"
    }
   ],
   "source": [
    "########### Setup code - don't touch this part ######################\n",
    "# If you're curious, these are examples of lists. We'll talk about \n",
    "# them in depth a few lessons from now. For now, just know that they're\n",
    "# yet another type of Python object, like int or float.\n",
    "a = [1, 2, 3]\n",
    "b = [3, 2, 1]\n",
    "q2.store_original_ids()\n",
    "######################################################################\n",
    "\n",
    "# Your code goes here. Swap the values to which a and b refer.\n",
    "# If you get stuck, you can always uncomment one or both of the lines in\n",
    "# the next cell for a hint, or to peek at the solution.\n",
    "\n",
    "######################################################################\n",
    "x = a\n",
    "a = b\n",
    "b = x\n",
    "# Check your answer\n",
    "q2.check()"
   ]
  },
  {
   "cell_type": "code",
   "execution_count": 8,
   "id": "35b088a6",
   "metadata": {
    "execution": {
     "iopub.execute_input": "2022-08-16T04:26:04.468249Z",
     "iopub.status.busy": "2022-08-16T04:26:04.467816Z",
     "iopub.status.idle": "2022-08-16T04:26:04.478877Z",
     "shell.execute_reply": "2022-08-16T04:26:04.477415Z"
    },
    "papermill": {
     "duration": 0.022991,
     "end_time": "2022-08-16T04:26:04.481395",
     "exception": false,
     "start_time": "2022-08-16T04:26:04.458404",
     "status": "completed"
    },
    "tags": []
   },
   "outputs": [
    {
     "data": {
      "application/javascript": [
       "parent.postMessage({\"jupyterEvent\": \"custom.exercise_interaction\", \"data\": {\"interactionType\": 2, \"questionType\": 2, \"questionId\": \"2_VariableSwap\", \"learnToolsVersion\": \"0.3.4\", \"valueTowardsCompletion\": 0.0, \"failureMessage\": \"\", \"exceptionClass\": \"\", \"trace\": \"\", \"outcomeType\": 4}}, \"*\")"
      ],
      "text/plain": [
       "<IPython.core.display.Javascript object>"
      ]
     },
     "metadata": {},
     "output_type": "display_data"
    },
    {
     "data": {
      "text/markdown": [
       "<span style=\"color:#3366cc\">Hint:</span> Try using a third variable."
      ],
      "text/plain": [
       "Hint: Try using a third variable."
      ]
     },
     "metadata": {},
     "output_type": "display_data"
    }
   ],
   "source": [
    "q2.hint()"
   ]
  },
  {
   "cell_type": "code",
   "execution_count": 9,
   "id": "bd1de12d",
   "metadata": {
    "execution": {
     "iopub.execute_input": "2022-08-16T04:26:04.504305Z",
     "iopub.status.busy": "2022-08-16T04:26:04.502785Z",
     "iopub.status.idle": "2022-08-16T04:26:04.509532Z",
     "shell.execute_reply": "2022-08-16T04:26:04.508350Z"
    },
    "papermill": {
     "duration": 0.019633,
     "end_time": "2022-08-16T04:26:04.512229",
     "exception": false,
     "start_time": "2022-08-16T04:26:04.492596",
     "status": "completed"
    },
    "tags": []
   },
   "outputs": [],
   "source": [
    "#q2.solution()"
   ]
  },
  {
   "cell_type": "markdown",
   "id": "2761ec1d",
   "metadata": {
    "papermill": {
     "duration": 0.008165,
     "end_time": "2022-08-16T04:26:04.529386",
     "exception": false,
     "start_time": "2022-08-16T04:26:04.521221",
     "status": "completed"
    },
    "tags": []
   },
   "source": [
    "<hr/>\n",
    "\n",
    "# 3a.\n",
    "\n",
    "Add parentheses to the following expression so that it evaluates to 1."
   ]
  },
  {
   "cell_type": "code",
   "execution_count": 10,
   "id": "e25ee96d",
   "metadata": {
    "execution": {
     "iopub.execute_input": "2022-08-16T04:26:04.548514Z",
     "iopub.status.busy": "2022-08-16T04:26:04.547760Z",
     "iopub.status.idle": "2022-08-16T04:26:04.554610Z",
     "shell.execute_reply": "2022-08-16T04:26:04.553615Z"
    },
    "papermill": {
     "duration": 0.020045,
     "end_time": "2022-08-16T04:26:04.557888",
     "exception": false,
     "start_time": "2022-08-16T04:26:04.537843",
     "status": "completed"
    },
    "tags": []
   },
   "outputs": [
    {
     "data": {
      "text/plain": [
       "1"
      ]
     },
     "execution_count": 10,
     "metadata": {},
     "output_type": "execute_result"
    }
   ],
   "source": [
    "(5 - 3) // 2"
   ]
  },
  {
   "cell_type": "code",
   "execution_count": 11,
   "id": "12dacd15",
   "metadata": {
    "execution": {
     "iopub.execute_input": "2022-08-16T04:26:04.580293Z",
     "iopub.status.busy": "2022-08-16T04:26:04.579456Z",
     "iopub.status.idle": "2022-08-16T04:26:04.584479Z",
     "shell.execute_reply": "2022-08-16T04:26:04.583610Z"
    },
    "papermill": {
     "duration": 0.017898,
     "end_time": "2022-08-16T04:26:04.586948",
     "exception": false,
     "start_time": "2022-08-16T04:26:04.569050",
     "status": "completed"
    },
    "tags": []
   },
   "outputs": [],
   "source": [
    "#q3.a.hint()"
   ]
  },
  {
   "cell_type": "code",
   "execution_count": 12,
   "id": "b521c671",
   "metadata": {
    "execution": {
     "iopub.execute_input": "2022-08-16T04:26:04.606393Z",
     "iopub.status.busy": "2022-08-16T04:26:04.605071Z",
     "iopub.status.idle": "2022-08-16T04:26:04.614545Z",
     "shell.execute_reply": "2022-08-16T04:26:04.613650Z"
    },
    "papermill": {
     "duration": 0.021307,
     "end_time": "2022-08-16T04:26:04.616744",
     "exception": false,
     "start_time": "2022-08-16T04:26:04.595437",
     "status": "completed"
    },
    "tags": []
   },
   "outputs": [
    {
     "data": {
      "application/javascript": [
       "parent.postMessage({\"jupyterEvent\": \"custom.exercise_interaction\", \"data\": {\"interactionType\": 3, \"questionType\": 4, \"questionId\": \"3.1_ArithmeticParensEasy\", \"learnToolsVersion\": \"0.3.4\", \"valueTowardsCompletion\": 0.0, \"failureMessage\": \"\", \"exceptionClass\": \"\", \"trace\": \"\", \"outcomeType\": 4}}, \"*\")"
      ],
      "text/plain": [
       "<IPython.core.display.Javascript object>"
      ]
     },
     "metadata": {},
     "output_type": "display_data"
    },
    {
     "data": {
      "text/markdown": [
       "<span style=\"color:#33cc99\">Solution:</span> \n",
       "```python\n",
       "(5 - 3) // 2\n",
       "```"
      ],
      "text/plain": [
       "Solution: \n",
       "```python\n",
       "(5 - 3) // 2\n",
       "```"
      ]
     },
     "metadata": {},
     "output_type": "display_data"
    }
   ],
   "source": [
    "# Check your answer (Run this code cell to receive credit!)\n",
    "q3.a.solution()"
   ]
  },
  {
   "cell_type": "markdown",
   "id": "5994d352",
   "metadata": {
    "papermill": {
     "duration": 0.00827,
     "end_time": "2022-08-16T04:26:04.633643",
     "exception": false,
     "start_time": "2022-08-16T04:26:04.625373",
     "status": "completed"
    },
    "tags": []
   },
   "source": [
    "# 3b.  <span title=\"A bit spicy\" style=\"color: darkgreen \">🌶️</span>\n",
    "\n",
    "<small>Questions, like this one, marked a spicy pepper are a bit harder.</small>\n",
    "\n",
    "Add parentheses to the following expression so that it evaluates to 0."
   ]
  },
  {
   "cell_type": "code",
   "execution_count": 13,
   "id": "a6098c9c",
   "metadata": {
    "execution": {
     "iopub.execute_input": "2022-08-16T04:26:04.653049Z",
     "iopub.status.busy": "2022-08-16T04:26:04.652213Z",
     "iopub.status.idle": "2022-08-16T04:26:04.658773Z",
     "shell.execute_reply": "2022-08-16T04:26:04.658003Z"
    },
    "papermill": {
     "duration": 0.018527,
     "end_time": "2022-08-16T04:26:04.660777",
     "exception": false,
     "start_time": "2022-08-16T04:26:04.642250",
     "status": "completed"
    },
    "tags": []
   },
   "outputs": [
    {
     "data": {
      "text/plain": [
       "0"
      ]
     },
     "execution_count": 13,
     "metadata": {},
     "output_type": "execute_result"
    }
   ],
   "source": [
    "8 - (3 * 2) - (1 + 1)"
   ]
  },
  {
   "cell_type": "code",
   "execution_count": 14,
   "id": "b1ae39cb",
   "metadata": {
    "execution": {
     "iopub.execute_input": "2022-08-16T04:26:04.680208Z",
     "iopub.status.busy": "2022-08-16T04:26:04.679640Z",
     "iopub.status.idle": "2022-08-16T04:26:04.683188Z",
     "shell.execute_reply": "2022-08-16T04:26:04.682449Z"
    },
    "papermill": {
     "duration": 0.015711,
     "end_time": "2022-08-16T04:26:04.685237",
     "exception": false,
     "start_time": "2022-08-16T04:26:04.669526",
     "status": "completed"
    },
    "tags": []
   },
   "outputs": [],
   "source": [
    "#q3.b.hint()"
   ]
  },
  {
   "cell_type": "code",
   "execution_count": 15,
   "id": "c854b9d1",
   "metadata": {
    "execution": {
     "iopub.execute_input": "2022-08-16T04:26:04.704954Z",
     "iopub.status.busy": "2022-08-16T04:26:04.704234Z",
     "iopub.status.idle": "2022-08-16T04:26:04.713161Z",
     "shell.execute_reply": "2022-08-16T04:26:04.712190Z"
    },
    "papermill": {
     "duration": 0.021165,
     "end_time": "2022-08-16T04:26:04.715340",
     "exception": false,
     "start_time": "2022-08-16T04:26:04.694175",
     "status": "completed"
    },
    "tags": []
   },
   "outputs": [
    {
     "data": {
      "application/javascript": [
       "parent.postMessage({\"jupyterEvent\": \"custom.exercise_interaction\", \"data\": {\"interactionType\": 3, \"questionType\": 4, \"questionId\": \"3.2_ArithmeticParensHard\", \"learnToolsVersion\": \"0.3.4\", \"valueTowardsCompletion\": 0.0, \"failureMessage\": \"\", \"exceptionClass\": \"\", \"trace\": \"\", \"outcomeType\": 4}}, \"*\")"
      ],
      "text/plain": [
       "<IPython.core.display.Javascript object>"
      ]
     },
     "metadata": {},
     "output_type": "display_data"
    },
    {
     "data": {
      "text/markdown": [
       "<span style=\"color:#33cc99\">Solution:</span> `(8 - 3) * (2 - (1 + 1))` is one solution. There may be others."
      ],
      "text/plain": [
       "Solution: `(8 - 3) * (2 - (1 + 1))` is one solution. There may be others."
      ]
     },
     "metadata": {},
     "output_type": "display_data"
    }
   ],
   "source": [
    "# Check your answer (Run this code cell to receive credit!)\n",
    "q3.b.solution()"
   ]
  },
  {
   "cell_type": "markdown",
   "id": "6489c7b9",
   "metadata": {
    "papermill": {
     "duration": 0.008723,
     "end_time": "2022-08-16T04:26:04.733183",
     "exception": false,
     "start_time": "2022-08-16T04:26:04.724460",
     "status": "completed"
    },
    "tags": []
   },
   "source": [
    "<hr/>\n",
    "\n",
    "# 4. \n",
    "Alice, Bob and Carol have agreed to pool their Halloween candy and split it evenly among themselves.\n",
    "For the sake of their friendship, any candies left over will be smashed. For example, if they collectively\n",
    "bring home 91 candies, they'll take 30 each and smash 1.\n",
    "\n",
    "Write an arithmetic expression below to calculate how many candies they must smash for a given haul."
   ]
  },
  {
   "cell_type": "code",
   "execution_count": 16,
   "id": "f79051ce",
   "metadata": {
    "execution": {
     "iopub.execute_input": "2022-08-16T04:26:04.753323Z",
     "iopub.status.busy": "2022-08-16T04:26:04.752629Z",
     "iopub.status.idle": "2022-08-16T04:26:04.763879Z",
     "shell.execute_reply": "2022-08-16T04:26:04.762474Z"
    },
    "papermill": {
     "duration": 0.024319,
     "end_time": "2022-08-16T04:26:04.766519",
     "exception": false,
     "start_time": "2022-08-16T04:26:04.742200",
     "status": "completed"
    },
    "tags": []
   },
   "outputs": [
    {
     "name": "stdout",
     "output_type": "stream",
     "text": [
      "307\n",
      "1\n"
     ]
    },
    {
     "data": {
      "application/javascript": [
       "parent.postMessage({\"jupyterEvent\": \"custom.exercise_interaction\", \"data\": {\"outcomeType\": 1, \"valueTowardsCompletion\": 0.25, \"interactionType\": 1, \"questionType\": 1, \"questionId\": \"4_CandySplitting\", \"learnToolsVersion\": \"0.3.4\", \"failureMessage\": \"\", \"exceptionClass\": \"\", \"trace\": \"\"}}, \"*\")"
      ],
      "text/plain": [
       "<IPython.core.display.Javascript object>"
      ]
     },
     "metadata": {},
     "output_type": "display_data"
    },
    {
     "data": {
      "text/markdown": [
       "<span style=\"color:#33cc33\">Correct</span>"
      ],
      "text/plain": [
       "Correct"
      ]
     },
     "metadata": {},
     "output_type": "display_data"
    }
   ],
   "source": [
    "# Variables representing the number of candies collected by alice, bob, and carol\n",
    "alice_candies = 121\n",
    "bob_candies = 77\n",
    "carol_candies = 109\n",
    "\n",
    "# Your code goes here! Replace the right-hand side of this assignment with an expression\n",
    "print (alice_candies  + bob_candies + carol_candies)\n",
    "print ((alice_candies  + bob_candies + carol_candies) % 3)\n",
    "\n",
    "\n",
    "# involving alice_candies, bob_candies, and carol_candies\n",
    "to_smash = 1\n",
    "\n",
    "# Check your answer\n",
    "q4.check()"
   ]
  },
  {
   "cell_type": "code",
   "execution_count": 17,
   "id": "a16f170e",
   "metadata": {
    "execution": {
     "iopub.execute_input": "2022-08-16T04:26:04.787686Z",
     "iopub.status.busy": "2022-08-16T04:26:04.787016Z",
     "iopub.status.idle": "2022-08-16T04:26:04.791422Z",
     "shell.execute_reply": "2022-08-16T04:26:04.790607Z"
    },
    "papermill": {
     "duration": 0.017401,
     "end_time": "2022-08-16T04:26:04.793531",
     "exception": false,
     "start_time": "2022-08-16T04:26:04.776130",
     "status": "completed"
    },
    "tags": []
   },
   "outputs": [],
   "source": [
    "#q4.hint()\n",
    "#q4.solution()"
   ]
  },
  {
   "cell_type": "markdown",
   "id": "4e9ca943",
   "metadata": {
    "papermill": {
     "duration": 0.009144,
     "end_time": "2022-08-16T04:26:04.812154",
     "exception": false,
     "start_time": "2022-08-16T04:26:04.803010",
     "status": "completed"
    },
    "tags": []
   },
   "source": [
    "# Keep Going\n",
    "\n",
    "Next up, you'll **[learn to write new functions and understand functions others write](https://www.kaggle.com/colinmorris/functions-and-getting-help)**. This will make you at least 10 times more productive as a Python programmer. "
   ]
  },
  {
   "cell_type": "markdown",
   "id": "0e0eaa06",
   "metadata": {
    "papermill": {
     "duration": 0.00916,
     "end_time": "2022-08-16T04:26:04.830722",
     "exception": false,
     "start_time": "2022-08-16T04:26:04.821562",
     "status": "completed"
    },
    "tags": []
   },
   "source": [
    "---\n",
    "\n",
    "\n",
    "\n",
    "\n",
    "*Have questions or comments? Visit the [course discussion forum](https://www.kaggle.com/learn/python/discussion) to chat with other learners.*"
   ]
  }
 ],
 "metadata": {
  "kernelspec": {
   "display_name": "Python 3",
   "language": "python",
   "name": "python3"
  },
  "language_info": {
   "codemirror_mode": {
    "name": "ipython",
    "version": 3
   },
   "file_extension": ".py",
   "mimetype": "text/x-python",
   "name": "python",
   "nbconvert_exporter": "python",
   "pygments_lexer": "ipython3",
   "version": "3.7.12"
  },
  "papermill": {
   "default_parameters": {},
   "duration": 10.446093,
   "end_time": "2022-08-16T04:26:05.461214",
   "environment_variables": {},
   "exception": null,
   "input_path": "__notebook__.ipynb",
   "output_path": "__notebook__.ipynb",
   "parameters": {},
   "start_time": "2022-08-16T04:25:55.015121",
   "version": "2.3.4"
  }
 },
 "nbformat": 4,
 "nbformat_minor": 5
}
